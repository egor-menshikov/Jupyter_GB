{
 "cells": [
  {
   "cell_type": "code",
   "execution_count": 1,
   "metadata": {},
   "outputs": [],
   "source": [
    "import pandas as pd"
   ]
  },
  {
   "cell_type": "code",
   "execution_count": 2,
   "metadata": {},
   "outputs": [],
   "source": [
    "df = pd.read_csv(\"laptop_price.csv\", sep=\",\", encoding=\"Windows-1251\")"
   ]
  },
  {
   "cell_type": "code",
   "execution_count": null,
   "metadata": {},
   "outputs": [],
   "source": [
    "df.sample(5)"
   ]
  },
  {
   "cell_type": "markdown",
   "metadata": {},
   "source": [
    "### 1.1\n",
    "Создать новый признак Cpu_Company, который будет содержать только название фирмы, которая произвела CPU"
   ]
  },
  {
   "cell_type": "code",
   "execution_count": 3,
   "metadata": {},
   "outputs": [],
   "source": [
    "df[\"Cpu_Company\"] = df[\"Cpu\"].apply(lambda x: x.split()[0])"
   ]
  },
  {
   "cell_type": "code",
   "execution_count": null,
   "metadata": {},
   "outputs": [],
   "source": [
    "df.sample(10)"
   ]
  },
  {
   "cell_type": "markdown",
   "metadata": {},
   "source": [
    "### 1.2\n",
    "Создать новый признак Memory_Amount, который будет содержать только количество Gb памяти без указания типа носителя"
   ]
  },
  {
   "cell_type": "code",
   "execution_count": 28,
   "metadata": {},
   "outputs": [],
   "source": [
    "def only_gb(x):\n",
    "    list_ = x.split()\n",
    "    if \"TB\" in list_[0]:\n",
    "        result = float(list_[0].replace(\"TB\", \"\"))\n",
    "        result = result * 1024\n",
    "    elif \"GB\" in list_[0]:\n",
    "        result = float(list_[0].replace(\"GB\", \"\"))\n",
    "\n",
    "    return int(result)"
   ]
  },
  {
   "cell_type": "code",
   "execution_count": 29,
   "metadata": {},
   "outputs": [],
   "source": [
    "df[\"Memory_Amount\"] = df[\"Memory\"].apply(only_gb)"
   ]
  },
  {
   "cell_type": "markdown",
   "metadata": {},
   "source": [
    "### 1.3\n",
    "Создать новый признак Memory_Type, который будет содержать только тип носителя (HDD/SDD/др.)"
   ]
  },
  {
   "cell_type": "code",
   "execution_count": 23,
   "metadata": {},
   "outputs": [
    {
     "name": "stdout",
     "output_type": "stream",
     "text": [
      "HDD + SDD\n"
     ]
    }
   ],
   "source": [
    "def only_mem_type(x):\n",
    "    list_split = x.split()\n",
    "    result_ = []\n",
    "    for i in list_split:\n",
    "        if \"GB\" not in i and \"TB\" not in i:\n",
    "            result_.append(i)\n",
    "    result = \" \".join(result_)\n",
    "    return result\n"
   ]
  },
  {
   "cell_type": "code",
   "execution_count": 24,
   "metadata": {},
   "outputs": [],
   "source": [
    "df['Memory_Type'] = df['Memory'].apply(only_mem_type)"
   ]
  },
  {
   "cell_type": "markdown",
   "metadata": {},
   "source": [
    "### 1.4\n",
    "Удалите признаки Memory и ScreenResolution"
   ]
  },
  {
   "cell_type": "code",
   "execution_count": 32,
   "metadata": {},
   "outputs": [],
   "source": [
    "df.drop(columns=['Memory', 'ScreenResolution'], inplace=True)"
   ]
  },
  {
   "cell_type": "markdown",
   "metadata": {},
   "source": [
    "### 2.1\n",
    "Создайте признак SSD, который изначально равен 0"
   ]
  },
  {
   "cell_type": "code",
   "execution_count": 34,
   "metadata": {},
   "outputs": [],
   "source": [
    "df['SSD'] = 0"
   ]
  },
  {
   "cell_type": "code",
   "execution_count": 40,
   "metadata": {},
   "outputs": [],
   "source": [
    "df.loc[df['Memory_Type'] == 'SSD', 'SSD'] = 1\n",
    "df.loc[df['Memory_Type'] == 'SSD + HDD', 'SSD'] = 1"
   ]
  },
  {
   "cell_type": "markdown",
   "metadata": {},
   "source": [
    "### 2.3\n",
    "Уберите в признаке Weight значения 'kg' и поменяйте его тип данных на вещественный"
   ]
  },
  {
   "cell_type": "code",
   "execution_count": 44,
   "metadata": {},
   "outputs": [],
   "source": [
    "df['Weight'] = df['Weight'].str.replace(\"kg\",\"\").astype('float')"
   ]
  },
  {
   "cell_type": "markdown",
   "metadata": {},
   "source": [
    "## Задание 3\n",
    "Создайте датафрейм с клиентами:"
   ]
  },
  {
   "cell_type": "markdown",
   "metadata": {},
   "source": [
    "```\n",
    "clients = pd.DataFrame({\n",
    "    'client_id': [45, 32, 67, 33, 43],\n",
    "    'laptop_id': [506, 398, 710, 120, 1999]\n",
    "})\n",
    "```\n"
   ]
  },
  {
   "cell_type": "markdown",
   "metadata": {},
   "source": [
    "### 3.1\n",
    "Присоедините к таблице clients данные по ноутбукам через метод join\n",
    "Это нужно, чтобы понимать, какие ноутбуки покупались клиентами\n",
    "laptop_id - это индексы датафрейма с ноутбуками"
   ]
  },
  {
   "cell_type": "code",
   "execution_count": 48,
   "metadata": {},
   "outputs": [],
   "source": [
    "clients = pd.DataFrame({\n",
    "    'client_id': [45, 32, 67, 33, 43],\n",
    "    'laptop_id': [506, 398, 710, 120, 1999]\n",
    "})"
   ]
  },
  {
   "cell_type": "code",
   "execution_count": null,
   "metadata": {},
   "outputs": [],
   "source": [
    "clients.head()"
   ]
  },
  {
   "cell_type": "code",
   "execution_count": null,
   "metadata": {},
   "outputs": [],
   "source": [
    "clients_id = clients.set_index('laptop_id')\n",
    "clients_id.head()"
   ]
  },
  {
   "cell_type": "code",
   "execution_count": null,
   "metadata": {},
   "outputs": [],
   "source": [
    "clients_id.head()"
   ]
  },
  {
   "cell_type": "code",
   "execution_count": null,
   "metadata": {},
   "outputs": [],
   "source": [
    "df_id = df.set_index('laptop_ID')\n"
   ]
  },
  {
   "cell_type": "code",
   "execution_count": null,
   "metadata": {},
   "outputs": [],
   "source": [
    "df_id.head()"
   ]
  },
  {
   "cell_type": "code",
   "execution_count": 56,
   "metadata": {},
   "outputs": [],
   "source": [
    "result = clients_id.join(df_id)"
   ]
  },
  {
   "cell_type": "code",
   "execution_count": null,
   "metadata": {},
   "outputs": [],
   "source": [
    "result.head()"
   ]
  },
  {
   "cell_type": "markdown",
   "metadata": {},
   "source": [
    "### 3.2 \n",
    "Присоедините к таблице clients данные по ноутбукам через метод merge\n",
    "Это нужно, чтобы понимать, какие ноутбуки покупались клиентами\n",
    "laptop_id - это индексы датафрейма с ноутбуками"
   ]
  },
  {
   "cell_type": "code",
   "execution_count": 59,
   "metadata": {},
   "outputs": [],
   "source": [
    "merged = clients.merge(df, left_on='laptop_id', right_on='laptop_ID')"
   ]
  },
  {
   "cell_type": "code",
   "execution_count": null,
   "metadata": {},
   "outputs": [],
   "source": [
    "merged.head()"
   ]
  },
  {
   "cell_type": "code",
   "execution_count": 61,
   "metadata": {},
   "outputs": [
    {
     "data": {
      "text/html": [
       "<div>\n",
       "<style scoped>\n",
       "    .dataframe tbody tr th:only-of-type {\n",
       "        vertical-align: middle;\n",
       "    }\n",
       "\n",
       "    .dataframe tbody tr th {\n",
       "        vertical-align: top;\n",
       "    }\n",
       "\n",
       "    .dataframe thead th {\n",
       "        text-align: right;\n",
       "    }\n",
       "</style>\n",
       "<table border=\"1\" class=\"dataframe\">\n",
       "  <thead>\n",
       "    <tr style=\"text-align: right;\">\n",
       "      <th></th>\n",
       "      <th>laptop_ID</th>\n",
       "      <th>Company</th>\n",
       "      <th>Product</th>\n",
       "      <th>TypeName</th>\n",
       "      <th>Inches</th>\n",
       "      <th>Cpu</th>\n",
       "      <th>Ram</th>\n",
       "      <th>Gpu</th>\n",
       "      <th>OpSys</th>\n",
       "      <th>Weight</th>\n",
       "      <th>Price_euros</th>\n",
       "      <th>Cpu_Company</th>\n",
       "      <th>Memory_Amount</th>\n",
       "      <th>Memory_Type</th>\n",
       "      <th>SSD</th>\n",
       "    </tr>\n",
       "  </thead>\n",
       "  <tbody>\n",
       "    <tr>\n",
       "      <th>0</th>\n",
       "      <td>1</td>\n",
       "      <td>Apple</td>\n",
       "      <td>MacBook Pro</td>\n",
       "      <td>Ultrabook</td>\n",
       "      <td>13.3</td>\n",
       "      <td>Intel Core i5 2.3GHz</td>\n",
       "      <td>8GB</td>\n",
       "      <td>Intel Iris Plus Graphics 640</td>\n",
       "      <td>macOS</td>\n",
       "      <td>1.37</td>\n",
       "      <td>1339.69</td>\n",
       "      <td>Intel</td>\n",
       "      <td>128</td>\n",
       "      <td>SSD</td>\n",
       "      <td>1</td>\n",
       "    </tr>\n",
       "  </tbody>\n",
       "</table>\n",
       "</div>"
      ],
      "text/plain": [
       "   laptop_ID Company      Product   TypeName  Inches                   Cpu  \\\n",
       "0          1   Apple  MacBook Pro  Ultrabook    13.3  Intel Core i5 2.3GHz   \n",
       "\n",
       "   Ram                           Gpu  OpSys  Weight  Price_euros Cpu_Company  \\\n",
       "0  8GB  Intel Iris Plus Graphics 640  macOS    1.37      1339.69       Intel   \n",
       "\n",
       "   Memory_Amount Memory_Type  SSD  \n",
       "0            128         SSD    1  "
      ]
     },
     "execution_count": 61,
     "metadata": {},
     "output_type": "execute_result"
    }
   ],
   "source": [
    "df.head(1)"
   ]
  },
  {
   "cell_type": "markdown",
   "metadata": {},
   "source": [
    "## Задача 4"
   ]
  },
  {
   "cell_type": "markdown",
   "metadata": {},
   "source": [
    "### 4.1\n",
    "Найдите среднюю стоимость ноутбуков в зависимости от компании производителя\n",
    "Отсортируйте от меньшей стоимости к большей"
   ]
  },
  {
   "cell_type": "code",
   "execution_count": null,
   "metadata": {},
   "outputs": [],
   "source": [
    "df.pivot_table(index='Company', values='Price_euros', aggfunc='mean')"
   ]
  },
  {
   "cell_type": "code",
   "execution_count": null,
   "metadata": {},
   "outputs": [],
   "source": []
  },
  {
   "cell_type": "markdown",
   "metadata": {},
   "source": [
    "### 4.2\n",
    "Найдите минимальную, среднюю и максимальную стоимости ноутбуков в зависимости от производителя процессора"
   ]
  },
  {
   "cell_type": "code",
   "execution_count": null,
   "metadata": {},
   "outputs": [],
   "source": [
    "df.groupby('Cpu_Company').agg({'Price_euros' : ['min', 'max']})"
   ]
  },
  {
   "cell_type": "markdown",
   "metadata": {},
   "source": [
    "### 4.3\n",
    "Постройте таблицу с подсчетом количества ноутбуков в данных в зависимости от производителя CPU и ОЗУ"
   ]
  },
  {
   "cell_type": "code",
   "execution_count": 64,
   "metadata": {},
   "outputs": [
    {
     "data": {
      "text/html": [
       "<div>\n",
       "<style scoped>\n",
       "    .dataframe tbody tr th:only-of-type {\n",
       "        vertical-align: middle;\n",
       "    }\n",
       "\n",
       "    .dataframe tbody tr th {\n",
       "        vertical-align: top;\n",
       "    }\n",
       "\n",
       "    .dataframe thead th {\n",
       "        text-align: right;\n",
       "    }\n",
       "</style>\n",
       "<table border=\"1\" class=\"dataframe\">\n",
       "  <thead>\n",
       "    <tr style=\"text-align: right;\">\n",
       "      <th>Ram</th>\n",
       "      <th>12GB</th>\n",
       "      <th>16GB</th>\n",
       "      <th>24GB</th>\n",
       "      <th>2GB</th>\n",
       "      <th>32GB</th>\n",
       "      <th>4GB</th>\n",
       "      <th>64GB</th>\n",
       "      <th>6GB</th>\n",
       "      <th>8GB</th>\n",
       "    </tr>\n",
       "    <tr>\n",
       "      <th>Cpu_Company</th>\n",
       "      <th></th>\n",
       "      <th></th>\n",
       "      <th></th>\n",
       "      <th></th>\n",
       "      <th></th>\n",
       "      <th></th>\n",
       "      <th></th>\n",
       "      <th></th>\n",
       "      <th></th>\n",
       "    </tr>\n",
       "  </thead>\n",
       "  <tbody>\n",
       "    <tr>\n",
       "      <th>AMD</th>\n",
       "      <td>2</td>\n",
       "      <td>3</td>\n",
       "      <td>0</td>\n",
       "      <td>1</td>\n",
       "      <td>0</td>\n",
       "      <td>31</td>\n",
       "      <td>0</td>\n",
       "      <td>13</td>\n",
       "      <td>12</td>\n",
       "    </tr>\n",
       "    <tr>\n",
       "      <th>Intel</th>\n",
       "      <td>23</td>\n",
       "      <td>197</td>\n",
       "      <td>3</td>\n",
       "      <td>21</td>\n",
       "      <td>17</td>\n",
       "      <td>343</td>\n",
       "      <td>1</td>\n",
       "      <td>28</td>\n",
       "      <td>607</td>\n",
       "    </tr>\n",
       "    <tr>\n",
       "      <th>Samsung</th>\n",
       "      <td>0</td>\n",
       "      <td>0</td>\n",
       "      <td>0</td>\n",
       "      <td>0</td>\n",
       "      <td>0</td>\n",
       "      <td>1</td>\n",
       "      <td>0</td>\n",
       "      <td>0</td>\n",
       "      <td>0</td>\n",
       "    </tr>\n",
       "  </tbody>\n",
       "</table>\n",
       "</div>"
      ],
      "text/plain": [
       "Ram          12GB  16GB  24GB  2GB  32GB  4GB  64GB  6GB  8GB\n",
       "Cpu_Company                                                  \n",
       "AMD             2     3     0    1     0   31     0   13   12\n",
       "Intel          23   197     3   21    17  343     1   28  607\n",
       "Samsung         0     0     0    0     0    1     0    0    0"
      ]
     },
     "execution_count": 64,
     "metadata": {},
     "output_type": "execute_result"
    }
   ],
   "source": [
    "pd.crosstab(index=df['Cpu_Company'], columns=df['Ram'])"
   ]
  },
  {
   "cell_type": "markdown",
   "metadata": {},
   "source": [
    "### 4.4\n",
    "Постройте таблицу с подсчетом средней стоимости ноутбуков в данных в зависимости от операционной системы и GB памяти"
   ]
  },
  {
   "cell_type": "code",
   "execution_count": 71,
   "metadata": {},
   "outputs": [
    {
     "data": {
      "text/html": [
       "<div>\n",
       "<style scoped>\n",
       "    .dataframe tbody tr th:only-of-type {\n",
       "        vertical-align: middle;\n",
       "    }\n",
       "\n",
       "    .dataframe tbody tr th {\n",
       "        vertical-align: top;\n",
       "    }\n",
       "\n",
       "    .dataframe thead th {\n",
       "        text-align: right;\n",
       "    }\n",
       "</style>\n",
       "<table border=\"1\" class=\"dataframe\">\n",
       "  <thead>\n",
       "    <tr style=\"text-align: right;\">\n",
       "      <th>Memory_Amount</th>\n",
       "      <th>8</th>\n",
       "      <th>16</th>\n",
       "      <th>32</th>\n",
       "      <th>64</th>\n",
       "      <th>128</th>\n",
       "      <th>180</th>\n",
       "      <th>240</th>\n",
       "      <th>256</th>\n",
       "      <th>500</th>\n",
       "      <th>508</th>\n",
       "      <th>512</th>\n",
       "      <th>1024</th>\n",
       "      <th>2048</th>\n",
       "    </tr>\n",
       "    <tr>\n",
       "      <th>OpSys</th>\n",
       "      <th></th>\n",
       "      <th></th>\n",
       "      <th></th>\n",
       "      <th></th>\n",
       "      <th></th>\n",
       "      <th></th>\n",
       "      <th></th>\n",
       "      <th></th>\n",
       "      <th></th>\n",
       "      <th></th>\n",
       "      <th></th>\n",
       "      <th></th>\n",
       "      <th></th>\n",
       "    </tr>\n",
       "  </thead>\n",
       "  <tbody>\n",
       "    <tr>\n",
       "      <th>Android</th>\n",
       "      <td>0.0</td>\n",
       "      <td>0.00</td>\n",
       "      <td>0.000000</td>\n",
       "      <td>434.000000</td>\n",
       "      <td>0.000000</td>\n",
       "      <td>0.0</td>\n",
       "      <td>0.0</td>\n",
       "      <td>0.000000</td>\n",
       "      <td>0.000000</td>\n",
       "      <td>0.0</td>\n",
       "      <td>0.000000</td>\n",
       "      <td>0.000000</td>\n",
       "      <td>0.0000</td>\n",
       "    </tr>\n",
       "    <tr>\n",
       "      <th>Chrome OS</th>\n",
       "      <td>0.0</td>\n",
       "      <td>305.38</td>\n",
       "      <td>412.454545</td>\n",
       "      <td>774.333333</td>\n",
       "      <td>1275.000000</td>\n",
       "      <td>0.0</td>\n",
       "      <td>0.0</td>\n",
       "      <td>1559.000000</td>\n",
       "      <td>0.000000</td>\n",
       "      <td>0.0</td>\n",
       "      <td>2199.000000</td>\n",
       "      <td>0.000000</td>\n",
       "      <td>0.0000</td>\n",
       "    </tr>\n",
       "    <tr>\n",
       "      <th>Linux</th>\n",
       "      <td>0.0</td>\n",
       "      <td>0.00</td>\n",
       "      <td>0.000000</td>\n",
       "      <td>0.000000</td>\n",
       "      <td>742.250000</td>\n",
       "      <td>0.0</td>\n",
       "      <td>0.0</td>\n",
       "      <td>811.638125</td>\n",
       "      <td>389.056364</td>\n",
       "      <td>0.0</td>\n",
       "      <td>0.000000</td>\n",
       "      <td>581.401290</td>\n",
       "      <td>0.0000</td>\n",
       "    </tr>\n",
       "    <tr>\n",
       "      <th>Mac OS X</th>\n",
       "      <td>0.0</td>\n",
       "      <td>0.00</td>\n",
       "      <td>0.000000</td>\n",
       "      <td>0.000000</td>\n",
       "      <td>1099.000000</td>\n",
       "      <td>0.0</td>\n",
       "      <td>0.0</td>\n",
       "      <td>1311.994000</td>\n",
       "      <td>0.000000</td>\n",
       "      <td>0.0</td>\n",
       "      <td>1222.000000</td>\n",
       "      <td>0.000000</td>\n",
       "      <td>0.0000</td>\n",
       "    </tr>\n",
       "    <tr>\n",
       "      <th>No OS</th>\n",
       "      <td>0.0</td>\n",
       "      <td>0.00</td>\n",
       "      <td>0.000000</td>\n",
       "      <td>0.000000</td>\n",
       "      <td>562.140000</td>\n",
       "      <td>0.0</td>\n",
       "      <td>0.0</td>\n",
       "      <td>782.989286</td>\n",
       "      <td>404.675385</td>\n",
       "      <td>0.0</td>\n",
       "      <td>1098.500000</td>\n",
       "      <td>540.539600</td>\n",
       "      <td>594.0000</td>\n",
       "    </tr>\n",
       "    <tr>\n",
       "      <th>Windows 10</th>\n",
       "      <td>2249.0</td>\n",
       "      <td>0.00</td>\n",
       "      <td>270.001471</td>\n",
       "      <td>499.716000</td>\n",
       "      <td>1026.489167</td>\n",
       "      <td>1073.5</td>\n",
       "      <td>3100.0</td>\n",
       "      <td>1334.456872</td>\n",
       "      <td>664.717647</td>\n",
       "      <td>0.0</td>\n",
       "      <td>1911.985285</td>\n",
       "      <td>904.827906</td>\n",
       "      <td>666.9475</td>\n",
       "    </tr>\n",
       "    <tr>\n",
       "      <th>Windows 10 S</th>\n",
       "      <td>0.0</td>\n",
       "      <td>0.00</td>\n",
       "      <td>0.000000</td>\n",
       "      <td>308.995000</td>\n",
       "      <td>1039.000000</td>\n",
       "      <td>0.0</td>\n",
       "      <td>0.0</td>\n",
       "      <td>1668.950000</td>\n",
       "      <td>0.000000</td>\n",
       "      <td>0.0</td>\n",
       "      <td>2589.000000</td>\n",
       "      <td>0.000000</td>\n",
       "      <td>0.0000</td>\n",
       "    </tr>\n",
       "    <tr>\n",
       "      <th>Windows 7</th>\n",
       "      <td>0.0</td>\n",
       "      <td>0.00</td>\n",
       "      <td>0.000000</td>\n",
       "      <td>0.000000</td>\n",
       "      <td>1320.323333</td>\n",
       "      <td>1199.0</td>\n",
       "      <td>0.0</td>\n",
       "      <td>1846.466800</td>\n",
       "      <td>924.048333</td>\n",
       "      <td>1002.0</td>\n",
       "      <td>2235.396667</td>\n",
       "      <td>1539.666667</td>\n",
       "      <td>0.0000</td>\n",
       "    </tr>\n",
       "    <tr>\n",
       "      <th>macOS</th>\n",
       "      <td>0.0</td>\n",
       "      <td>0.00</td>\n",
       "      <td>0.000000</td>\n",
       "      <td>0.000000</td>\n",
       "      <td>1119.315000</td>\n",
       "      <td>0.0</td>\n",
       "      <td>0.0</td>\n",
       "      <td>1600.370000</td>\n",
       "      <td>0.000000</td>\n",
       "      <td>0.0</td>\n",
       "      <td>2180.870000</td>\n",
       "      <td>0.000000</td>\n",
       "      <td>0.0000</td>\n",
       "    </tr>\n",
       "  </tbody>\n",
       "</table>\n",
       "</div>"
      ],
      "text/plain": [
       "Memory_Amount    8       16          32          64           128     180   \\\n",
       "OpSys                                                                        \n",
       "Android           0.0    0.00    0.000000  434.000000     0.000000     0.0   \n",
       "Chrome OS         0.0  305.38  412.454545  774.333333  1275.000000     0.0   \n",
       "Linux             0.0    0.00    0.000000    0.000000   742.250000     0.0   \n",
       "Mac OS X          0.0    0.00    0.000000    0.000000  1099.000000     0.0   \n",
       "No OS             0.0    0.00    0.000000    0.000000   562.140000     0.0   \n",
       "Windows 10     2249.0    0.00  270.001471  499.716000  1026.489167  1073.5   \n",
       "Windows 10 S      0.0    0.00    0.000000  308.995000  1039.000000     0.0   \n",
       "Windows 7         0.0    0.00    0.000000    0.000000  1320.323333  1199.0   \n",
       "macOS             0.0    0.00    0.000000    0.000000  1119.315000     0.0   \n",
       "\n",
       "Memory_Amount    240          256         500     508          512   \\\n",
       "OpSys                                                                 \n",
       "Android           0.0     0.000000    0.000000     0.0     0.000000   \n",
       "Chrome OS         0.0  1559.000000    0.000000     0.0  2199.000000   \n",
       "Linux             0.0   811.638125  389.056364     0.0     0.000000   \n",
       "Mac OS X          0.0  1311.994000    0.000000     0.0  1222.000000   \n",
       "No OS             0.0   782.989286  404.675385     0.0  1098.500000   \n",
       "Windows 10     3100.0  1334.456872  664.717647     0.0  1911.985285   \n",
       "Windows 10 S      0.0  1668.950000    0.000000     0.0  2589.000000   \n",
       "Windows 7         0.0  1846.466800  924.048333  1002.0  2235.396667   \n",
       "macOS             0.0  1600.370000    0.000000     0.0  2180.870000   \n",
       "\n",
       "Memory_Amount         1024      2048  \n",
       "OpSys                                 \n",
       "Android           0.000000    0.0000  \n",
       "Chrome OS         0.000000    0.0000  \n",
       "Linux           581.401290    0.0000  \n",
       "Mac OS X          0.000000    0.0000  \n",
       "No OS           540.539600  594.0000  \n",
       "Windows 10      904.827906  666.9475  \n",
       "Windows 10 S      0.000000    0.0000  \n",
       "Windows 7      1539.666667    0.0000  \n",
       "macOS             0.000000    0.0000  "
      ]
     },
     "execution_count": 71,
     "metadata": {},
     "output_type": "execute_result"
    }
   ],
   "source": [
    "pd.crosstab(index=df['OpSys'], columns=df['Memory_Amount'], values=df['Price_euros'], aggfunc='mean', dropna=False).fillna(0)"
   ]
  }
 ],
 "metadata": {
  "kernelspec": {
   "display_name": "Python 3",
   "language": "python",
   "name": "python3"
  },
  "language_info": {
   "codemirror_mode": {
    "name": "ipython",
    "version": 3
   },
   "file_extension": ".py",
   "mimetype": "text/x-python",
   "name": "python",
   "nbconvert_exporter": "python",
   "pygments_lexer": "ipython3",
   "version": "3.11.3"
  },
  "orig_nbformat": 4
 },
 "nbformat": 4,
 "nbformat_minor": 2
}
